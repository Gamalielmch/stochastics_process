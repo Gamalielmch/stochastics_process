{
 "cells": [
  {
   "cell_type": "markdown",
   "metadata": {},
   "source": [
    "# Probabilidad\n"
   ]
  },
  {
   "cell_type": "markdown",
   "metadata": {},
   "source": [
    "## Definiciones básicas\n",
    "\n",
    "En experimentos aleatorios, la lista de todos los posibles resultados se denomia **espacio muestral**, denotado por $S$\n",
    "<img src=\"figuras/im1.jpg\" width=\"200\"> <img src=\"figuras/im1b.jpg\" width=\"200\"> <img src=\"figuras/im1c.jpg\" width=\"200\">\n",
    "\n",
    "- La lista consiste de **resultados indiviuduales** o **elementos**. El esapcio muestral puede ser finito o infinito y puede ser discreto o continuo. Estos elementos tienen las propiedades de que son *mutuamente excluyentes* y de que son *exhaustivos*.\n",
    "\n",
    "- Una colección de elementos de $S$ se llama evento: estos generalmente se denotan con letras mayúsculas, $A, B,$ etc. Denotamos por $P(A)$ la probabilidad de que el evento $A$ ocurra en cada repetición del experimento aleatorio."
   ]
  },
  {
   "cell_type": "markdown",
   "metadata": {},
   "source": [
    "## Estimación de probabilida de un evento\n",
    "Existen dos forma para estimar la probabilidad de un evento A, la primera es la frecuencia relativa:\n",
    "\n",
    "$$ \\frac{\\text{la cantidad de veces que ocurre un evento particular } A}{\\text{número total de ensayos}}$$\n",
    "\n",
    "La otra es que si se tiene un conjunto finito y los resultados son equiprobables, como el lanzamiento de un dado, entonces la probabilidad es estimado por \n",
    "\n",
    "$$ P(A)= \\frac{\\text{número de elementos de $S$ cuando $A$ ocurre}}{\\text{número de elementos en $S$}}$$"
   ]
  },
  {
   "cell_type": "markdown",
   "metadata": {},
   "source": [
    "## Conjuntos\n",
    "Es conveniente utilizar la notación de **conjuntos** al derivar probabilidades de eventos. Esto lleva a que el espacio muestral $S$ se denomine *conjunto universal*, el conjunto de todos los resultados: un evento $A$ es un *subconjunto* de $S$. Estos nos permite denotar operaciones con conjuntos.\n",
    "\n",
    "<img src=\"figuras/im2.jpg\" width=\"600\"> \n",
    "\n",
    "- Union $A \\cup B = \\lbrace x\\vert x \\in A \\text{ o } x \\in B  \\text{ o ambos }\\rbrace$\n",
    "\n",
    "- Intersección $A \\cap B = \\lbrace x\\vert x \\in A \\text{ y } x \\in B  \\rbrace$\n",
    "\n",
    "- Complement $A^{c}= \\lbrace x \\vert x \\notin A \\rbrace$\n",
    "\n",
    "¿Los siguientes diagramas que operaciones representan?\n",
    "<img src=\"figuras/im3.jpg\" width=\"600\"> \n",
    "\n",
    "- El **conjunto vacio** se denonta como $\\phi$ este conjunto no tiene elementos. Dos ejemplos de conjuntos vacios $S^{c}=\\phi$ y si $A$ y $B$ **son conjuntos mutamente excluyentes** es decir que no tiene elementos en común, entonces $A \\cap B= \\phi$, se dice que son conjuntos disjuntos. "
   ]
  },
  {
   "cell_type": "code",
   "execution_count": null,
   "metadata": {},
   "outputs": [],
   "source": []
  }
 ],
 "metadata": {
  "kernelspec": {
   "display_name": "Python 3",
   "language": "python",
   "name": "python3"
  },
  "language_info": {
   "codemirror_mode": {
    "name": "ipython",
    "version": 3
   },
   "file_extension": ".py",
   "mimetype": "text/x-python",
   "name": "python",
   "nbconvert_exporter": "python",
   "pygments_lexer": "ipython3",
   "version": "3.8.3"
  }
 },
 "nbformat": 4,
 "nbformat_minor": 4
}
