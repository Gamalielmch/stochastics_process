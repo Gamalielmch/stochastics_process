{
 "cells": [
  {
   "cell_type": "markdown",
   "metadata": {},
   "source": [
    "# Probabilidad\n"
   ]
  },
  {
   "cell_type": "markdown",
   "metadata": {},
   "source": [
    "## Definiciones básicas\n",
    "\n",
    "En experimentos aleatorios, la lista de todos los posibles resultados se denomia **espacio muestral**, denotado por $S$\n",
    "<img src=\"figuras/im1.jpg\" width=\"800\"> \n",
    "\n",
    "- La lista consiste de **resultados indiviuduales** o **elementos**. El esapcio muestral puede ser finito o infinito y puede ser discreto o continuo. Estos elementos tienen las propiedades de que son *mutuamente excluyentes* y de que son *exhaustivos*.\n",
    "\n",
    "- Una colección de elementos de $S$ se llama evento: estos generalmente se denotan con letras mayúsculas, $A, B,$ etc. Denotamos por $P(A)$ la probabilidad de que el evento $A$ ocurra en cada repetición del experimento aleatorio."
   ]
  },
  {
   "cell_type": "markdown",
   "metadata": {},
   "source": [
    "## Estimación de probabilidad de un evento\n",
    "Existen dos forma para estimar la probabilidad de un evento A, la primera es la frecuencia relativa:\n",
    "\n",
    "$$ \\frac{\\text{la cantidad de veces que ocurre un evento particular } A}{\\text{número total de ensayos}}$$\n",
    "\n",
    "La otra es que si se tiene un conjunto finito y los resultados son equiprobables, como el lanzamiento de un dado, entonces la probabilidad es estimado por \n",
    "\n",
    "$$ P(A)= \\frac{\\text{número de elementos de $S$ cuando $A$ ocurre}}{\\text{número de elementos en $S$}}$$"
   ]
  },
  {
   "cell_type": "markdown",
   "metadata": {},
   "source": [
    "## Conjuntos\n",
    "Es conveniente utilizar la notación de **conjuntos** al derivar probabilidades de eventos. Esto lleva a que el espacio muestral $S$ se denomine *conjunto universal*, el conjunto de todos los resultados: un evento $A$ es un *subconjunto* de $S$. Estos nos permite denotar operaciones con conjuntos.\n",
    "\n",
    "<img src=\"figuras/im2.jpg\" width=\"600\"> \n",
    "\n",
    "- Union $A \\cup B = \\lbrace x\\vert x \\in A \\text{ o } x \\in B  \\text{ o ambos }\\rbrace$\n",
    "\n",
    "- Intersección $A \\cap B = \\lbrace x\\vert x \\in A \\text{ y } x \\in B  \\rbrace$\n",
    "\n",
    "- Complement $A^{c}= \\lbrace x \\vert x \\notin A \\rbrace$\n",
    "\n",
    "¿Los siguientes diagramas que operaciones representan?\n",
    "<img src=\"figuras/im3.jpg\" width=\"600\"> \n",
    "\n",
    "- El **conjunto vacio** se denonta como $\\phi$ este conjunto no tiene elementos. Dos ejemplos de conjuntos vacios $S^{c}=\\phi$ y si $A$ y $B$ **son conjuntos mutamente excluyentes** es decir que no tiene elementos en común, entonces $A \\cap B= \\phi$, se dice que son conjuntos disjuntos. "
   ]
  },
  {
   "cell_type": "markdown",
   "metadata": {},
   "source": [
    "## Probabilidad de eventos y conjuntos\n",
    "La probabilidad de cualquier evento debe satisfacer los siguientes tres axiomas\n",
    "\n",
    "- Axioma 1: $0 \\leq P(A) \\leq 1$ para cada evento $A$\n",
    "- Axioma 2: $P(S)=1 $\n",
    "- Axioma 3: $P(A\\cup B)=P(A)+P(B)$ si y sólo si $A$ y $B$ son mutamente excluyentes ($A\\cap B=\\phi$) \n",
    "\n",
    "Estos tres axiomas se pueden extender a más de eventos mutamente excluyentes:\n",
    "\n",
    "En $S$ donde $A_{i} \\cap A_{j} = \\phi \\text{  } \\forall \\text{  } i\\neq j$. Esto es conocido como partición de $S$ si \n",
    "\n",
    "- $A_{i} \\cap A_{j} = \\phi \\text{  } \\forall \\text{  } i\\neq j$.\n",
    "- $\\bigcup\\limits_{i=1}^{k} A_{i}= A_{1} \\cup A_{2} \\cup \\ldots \\cup A_{3}= S$. $A_{1},A_{2}, \\ldots ,A_{k}$ es una **lista exhaustiva** tal que one de los eventos debe ocurrir\n",
    "- $P(A_{i})>0$\n",
    "\n",
    "### Teoremas \n",
    "- $P(S) = P(A_{1}\\cup A_{2} \\cup \\cdots \\cup  A_{k}) \\displaystyle \\sum_{i=1}^{k}{P(A_{i})}=1$\n",
    "\n",
    "- $P(A^{c})=1-P(A)$\n",
    "\n",
    "\n",
    "- $P(A\\cup B)= P(A)+P(B)-P(A\\cap B)$\n",
    "\n",
    "\n",
    "- $P(S)=P(A \\cup A^{c})= P(A)+P(A^{c})=1$\n",
    "\n",
    "\n",
    "- Para cualquier conjunto $A$ y $B$  \n",
    "$A\\cup B= A\\cup (B\\cap A^{c})$, \n",
    "$B=(A\\cap B)\\cup (B\\cap A^{c})$\n",
    "\n",
    "en donde $A$ y $B \\cap A^{c}$ son conjuntos disjuntos y  $A\\cap B$ and $B\\cap A^{c}$  son conjuntos disjuntos. Por lo tanto\n",
    "\n",
    "- $P(A\\cup B)=P(A)+P(B\\cap A^{c}) $]\n",
    "- $P(B)=P(A\\cup B)+P(B\\cap A^{c}) $\n",
    "\n",
    "Estas dos expresiones nos llevan a \n",
    "- $P(A\\cup B)=P(A)+P(B)-P(A\\cup B)$ "
   ]
  },
  {
   "cell_type": "markdown",
   "metadata": {},
   "source": [
    "### *Ejemplos*\n",
    "\n",
    "- Se tiran dos dados honestos distinguibles a y b y se anotan los valores de las caras superiores. ¿Cuáles son los elementos del espacio muestral? ¿Cuál es la probabilidad de que la suma de los valores de los dos dados sea 7? ¿Cuál es la probabilidad de que aparezca al menos un 5?\n",
    "\n",
    "\n",
    "- De un mazo bien mezclado de 52 naipes, se saca una sola carta al azar. Calcula la probabilidad de que sea un corazón o un as."
   ]
  },
  {
   "cell_type": "markdown",
   "metadata": {},
   "source": [
    "## Probabilidad condicional e independencia \n",
    "\n",
    "Si la ocurrencia de un evento $B$ se ve afectada por la ocurrencia de otro evento $A$, entonces\n",
    "decimos que $A$ y $B$ son eventos dependientes. Cuando se realiza el experimento, se sabe que ha ocurrido el evento $A$. ¿Afecta esto la probabilidad de $B$? Sí lo hace se convierte en una probabilidad condicional de $B$ dada $A$, escrita como $P (B \\vert A)$. Por lo general, esto será distinto de la probabilidad $P (B)$. La probabilidad condicional de B está restringida a la parte del espacio muestral donde $A$ ocurrió. Esta probabilidad condicional se define como\n",
    "\n",
    "$$\n",
    "P(B\\vert A)= \\frac{P(A\\cap B)}{ P(A)} \\text{,        } \\quad P(A)>0\n",
    "$$\n",
    "\n",
    "En términos de conteo, suponga que un experimento se repite $N$ veces, de las cuales $A$ ocurre $N (A)$ veces, y $A$ dado por $B$ ocurre $N (B ∩ A)$ veces. La proporción de veces que ocurre $B$ es\n",
    "\n",
    "\n",
    "$$\n",
    "\\frac{N(A\\cap B)}{N(A)}= \\frac{N(A\\cap B)}{N}\\frac{ N}{N(A)}\n",
    "$$\n",
    "\n",
    "Si la probabilidad de $B$ no es afectada por la ocurrencia de $A$, entonces son eventos independientes \n",
    "$$\n",
    "P(B\\vert A)=P(B)\n",
    "$$\n",
    "\n",
    "lo que implica que \n",
    "$$\n",
    "P(A\\cap B)=P(A)P(B)\n",
    "$$"
   ]
  },
  {
   "cell_type": "code",
   "execution_count": null,
   "metadata": {},
   "outputs": [],
   "source": []
  }
 ],
 "metadata": {
  "kernelspec": {
   "display_name": "Python 3",
   "language": "python",
   "name": "python3"
  },
  "language_info": {
   "codemirror_mode": {
    "name": "ipython",
    "version": 3
   },
   "file_extension": ".py",
   "mimetype": "text/x-python",
   "name": "python",
   "nbconvert_exporter": "python",
   "pygments_lexer": "ipython3",
   "version": "3.8.3"
  }
 },
 "nbformat": 4,
 "nbformat_minor": 4
}
