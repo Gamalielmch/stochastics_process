{
 "cells": [
  {
   "cell_type": "code",
   "execution_count": 20,
   "metadata": {},
   "outputs": [],
   "source": [
    "import numpy as np\n",
    "from numpy import linalg as LA"
   ]
  },
  {
   "cell_type": "code",
   "execution_count": 21,
   "metadata": {},
   "outputs": [
    {
     "name": "stdout",
     "output_type": "stream",
     "text": [
      "[[0.39999998 0.        ]\n",
      " [0.39999998 0.        ]]\n"
     ]
    }
   ],
   "source": [
    "T = [[0.5, 0.5], \n",
    "    [1/3, 2/3]]\n",
    "po=[1,0]\n",
    "for i in range(30):\n",
    "    T=np.matmul(T,T)\n",
    "    \n",
    "print (po*T)"
   ]
  },
  {
   "cell_type": "code",
   "execution_count": 22,
   "metadata": {},
   "outputs": [
    {
     "name": "stdout",
     "output_type": "stream",
     "text": [
      "[[0.25, 0.5, 0.25], [0.5, 0.25, 0.25], [0.25, 0.25, 0.5]]\n"
     ]
    }
   ],
   "source": [
    "T=[[0.25, 0.5, 0.25], \n",
    "    [0.5, 0.25, 0.25],\n",
    "    [0.25, 0.25, 0.5]]\n",
    "print(T)"
   ]
  },
  {
   "cell_type": "code",
   "execution_count": 34,
   "metadata": {},
   "outputs": [
    {
     "name": "stdout",
     "output_type": "stream",
     "text": [
      "[[0.33300781 0.33398437 0.33300781]\n",
      " [0.33398437 0.33300781 0.33300781]\n",
      " [0.33300781 0.33300781 0.33398437]]\n"
     ]
    }
   ],
   "source": [
    "w, C = LA.eig(T)\n",
    "Ci= LA.inv(C)\n",
    "\n",
    "n=5;\n",
    "D=[[w[0]**n, 0, 0], \n",
    "    [0, w[1]**n, 0],\n",
    "    [0, 0, w[2]**n]]\n",
    "temp=np.matmul(C,D)\n",
    "Tn=np.matmul(temp,Ci)\n",
    "print(Tn)\n"
   ]
  },
  {
   "cell_type": "code",
   "execution_count": null,
   "metadata": {},
   "outputs": [],
   "source": []
  }
 ],
 "metadata": {
  "kernelspec": {
   "display_name": "Python 3",
   "language": "python",
   "name": "python3"
  },
  "language_info": {
   "codemirror_mode": {
    "name": "ipython",
    "version": 3
   },
   "file_extension": ".py",
   "mimetype": "text/x-python",
   "name": "python",
   "nbconvert_exporter": "python",
   "pygments_lexer": "ipython3",
   "version": "3.7.4"
  }
 },
 "nbformat": 4,
 "nbformat_minor": 4
}
